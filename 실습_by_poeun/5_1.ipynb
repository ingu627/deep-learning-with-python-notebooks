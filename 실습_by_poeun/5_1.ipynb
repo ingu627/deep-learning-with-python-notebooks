{
 "cells": [
  {
   "cell_type": "code",
   "execution_count": 1,
   "metadata": {},
   "outputs": [],
   "source": []
  },
  {
   "cell_type": "code",
   "execution_count": 2,
   "metadata": {},
   "outputs": [],
   "source": [
    "import os, shutil\n",
    "\n",
    "original_dataset_dir = 'F:/data/dogs-vs-cats/train' # 원본 데이터셋을 압축 해제한 디렉터리 경로\n",
    "\n",
    "base_dir = 'F:/data/dogs-vs-cats_small'\n",
    "\n",
    "if os.path.exists(base_dir):  # 반복적인 실행을 위해 디렉토리를 삭제합니다.\n",
    "    shutil.rmtree(base_dir) # 존재한다면 지운다.\n",
    "\n",
    "os.mkdir(base_dir) # make directory의 약어\n",
    "\n",
    "# 훈련, 검증, 테스트 분할을 위한 디렉터리\n",
    "train_dir = os.path.join(base_dir, 'train') # os.path.join : 인수에 전달된 2개의 문자열을 결합하여, 1개의 경로로 할 수 있다.\n",
    "os.mkdir(train_dir)\n",
    "validation_dir = os.path.join(base_dir, 'validation')\n",
    "os.mkdir(validation_dir)\n",
    "test_dir = os.path.join(base_dir, 'test')\n",
    "os.mkdir(test_dir)\n",
    "\n",
    "train_cats_dir = os.path.join(train_dir, 'cats') # 훈련용 고양이 사진 디렉터리\n",
    "os.mkdir(train_cats_dir)\n",
    "\n",
    "train_dogs_dir = os.path.join(train_dir, 'dogs') # 훈련용 강아지 사진 디렉터리\n",
    "os.mkdir(train_dogs_dir)\n",
    "\n",
    "validation_cats_dir = os.path.join(validation_dir, 'cats') # 검증용 고양이 사진 디렉터리\n",
    "os.mkdir(validation_cats_dir)\n",
    "\n",
    "validation_dogs_dir = os.path.join(validation_dir, 'dogs') # 검증용 강아지 사진 디렉터리\n",
    "os.mkdir(validation_dogs_dir)\n",
    "\n",
    "test_cats_dir = os.path.join(test_dir, 'cats') # 테스트용 고양이 사진 디렉터리\n",
    "os.mkdir(test_cats_dir)\n",
    "\n",
    "test_dogs_dir = os.path.join(test_dir, 'dogs') # 테스트용 강아지 사진 디렉터리\n",
    "os.mkdir(test_dogs_dir)\n",
    "\n",
    "fnames = ['cat.{}.jpg'.format(i) for i in range(1000)]\n",
    "for fname in fnames:\n",
    "    src = os.path.join(original_dataset_dir, fname)\n",
    "    dst = os.path.join(train_cats_dir, fname)\n",
    "    shutil.copyfile(src, dst) # copy data from src to dst\n",
    "\n",
    "fnames = ['cat.{}.jpg'.format(i) for i in range(1000, 1500)]\n",
    "for fname in fnames:\n",
    "    src = os.path.join(original_dataset_dir, fname)\n",
    "    dst = os.path.join(validation_cats_dir, fname)\n",
    "    shutil.copyfile(src, dst)\n",
    "\n",
    "fnames = ['cat.{}.jpg'.format(i) for i in range(1500, 2000)]\n",
    "for fname in fnames:\n",
    "    src = os.path.join(original_dataset_dir, fname)\n",
    "    dst = os.path.join(test_cats_dir, fname)\n",
    "    shutil.copyfile(src, dst)\n",
    "    \n",
    "    \n",
    "fnames = ['dog.{}.jpg'.format(i) for i in range(1000)]\n",
    "for fname in fnames:\n",
    "    src = os.path.join(original_dataset_dir, fname)\n",
    "    dst = os.path.join(train_dogs_dir, fname)\n",
    "    shutil.copyfile(src, dst) # copy data from src to dst\n",
    "\n",
    "fnames = ['dog.{}.jpg'.format(i) for i in range(1000, 1500)]\n",
    "for fname in fnames:\n",
    "    src = os.path.join(original_dataset_dir, fname)\n",
    "    dst = os.path.join(validation_dogs_dir, fname)\n",
    "    shutil.copyfile(src, dst)\n",
    "\n",
    "fnames = ['dog.{}.jpg'.format(i) for i in range(1500, 2000)]\n",
    "for fname in fnames:\n",
    "    src = os.path.join(original_dataset_dir, fname)\n",
    "    dst = os.path.join(test_dogs_dir, fname)\n",
    "    shutil.copyfile(src, dst)\n",
    "\n",
    "print('훈련용 고양이 이미지 전체 개수:', len(os.listdir(train_cats_dir))) \n",
    "print('훈련용 고양이 이미지 전체 개수:', len(os.listdir(validation_cats_dir))) \n",
    "print('훈련용 고양이 이미지 전체 개수:', len(os.listdir(test_cats_dir))) \n",
    "print('훈련용 강아지 이미지 전체 개수:', len(os.listdir(train_dogs_dir))) \n",
    "print('훈련용 강아지 이미지 전체 개수:', len(os.listdir(validation_dogs_dir))) \n",
    "print('훈련용 강아지 이미지 전체 개수:', len(os.listdir(test_dogs_dir))) "
   ]
  },
  {
   "cell_type": "code",
   "execution_count": 4,
   "metadata": {},
   "outputs": [],
   "source": [
    "from tensorflow.keras import layers, models\n",
    "\n",
    "model = models.Sequential()\n",
    "model.add(layers.Conv2D(32, (3,3), activation='relu', \n",
    "                        input_shape=(150,150,3)))\n",
    "model.add(layers.MaxPooling2D((2,2)))\n",
    "model.add(layers.Conv2D(64, (3,3), activation='relu'))\n",
    "model.add(layers.MaxPooling2D((2,2)))\n",
    "model.add(layers.Conv2D(128, (3,3), activation='relu'))\n",
    "model.add(layers.MaxPooling2D((2,2)))\n",
    "model.add(layers.Conv2D(128, (3,3), activation='relu'))\n",
    "model.add(layers.MaxPooling2D((2,2)))\n",
    "model.add(layers.Flatten())\n",
    "model.add(layers.Dense(512, activation='relu'))\n",
    "model.add(layers.Dense(1, activation='sigmoid'))"
   ]
  },
  {
   "cell_type": "code",
   "execution_count": 5,
   "metadata": {},
   "outputs": [
    {
     "name": "stdout",
     "output_type": "stream",
     "text": [
      "Model: \"sequential\"\n",
      "_________________________________________________________________\n",
      " Layer (type)                Output Shape              Param #   \n",
      "=================================================================\n",
      " conv2d (Conv2D)             (None, 148, 148, 32)      896       \n",
      "                                                                 \n",
      " max_pooling2d (MaxPooling2D  (None, 74, 74, 32)       0         \n",
      " )                                                               \n",
      "                                                                 \n",
      " conv2d_1 (Conv2D)           (None, 72, 72, 64)        18496     \n",
      "                                                                 \n",
      " max_pooling2d_1 (MaxPooling  (None, 36, 36, 64)       0         \n",
      " 2D)                                                             \n",
      "                                                                 \n",
      " conv2d_2 (Conv2D)           (None, 34, 34, 128)       73856     \n",
      "                                                                 \n",
      " max_pooling2d_2 (MaxPooling  (None, 17, 17, 128)      0         \n",
      " 2D)                                                             \n",
      "                                                                 \n",
      " conv2d_3 (Conv2D)           (None, 15, 15, 128)       147584    \n",
      "                                                                 \n",
      " max_pooling2d_3 (MaxPooling  (None, 7, 7, 128)        0         \n",
      " 2D)                                                             \n",
      "                                                                 \n",
      " flatten (Flatten)           (None, 6272)              0         \n",
      "                                                                 \n",
      " dense (Dense)               (None, 512)               3211776   \n",
      "                                                                 \n",
      " dense_1 (Dense)             (None, 1)                 513       \n",
      "                                                                 \n",
      "=================================================================\n",
      "Total params: 3,453,121\n",
      "Trainable params: 3,453,121\n",
      "Non-trainable params: 0\n",
      "_________________________________________________________________\n"
     ]
    }
   ],
   "source": [
    "model.summary()"
   ]
  },
  {
   "cell_type": "code",
   "execution_count": 6,
   "metadata": {},
   "outputs": [
    {
     "name": "stderr",
     "output_type": "stream",
     "text": [
      "C:\\Users\\poeun\\anaconda3\\envs\\tf2.4\\lib\\site-packages\\keras\\optimizer_v2\\rmsprop.py:130: UserWarning: The `lr` argument is deprecated, use `learning_rate` instead.\n",
      "  super(RMSprop, self).__init__(name, **kwargs)\n"
     ]
    }
   ],
   "source": [
    "from tensorflow.keras import optimizers\n",
    "\n",
    "model.compile(loss='binary_crossentropy', \n",
    "              optimizer=optimizers.RMSprop(lr=1e-4),\n",
    "              metrics=['accuracy'])"
   ]
  },
  {
   "cell_type": "code",
   "execution_count": 7,
   "metadata": {},
   "outputs": [
    {
     "name": "stdout",
     "output_type": "stream",
     "text": [
      "Found 2000 images belonging to 2 classes.\n",
      "Found 1000 images belonging to 2 classes.\n"
     ]
    }
   ],
   "source": [
    "from tensorflow.keras.preprocessing.image import ImageDataGenerator\n",
    "\n",
    "train_datagen = ImageDataGenerator(rescale = 1./255) # 모든 이미지를 1/255로 스케일을 조정한다.\n",
    "test_datagen = ImageDataGenerator(rescale = 1./255)\n",
    "\n",
    "train_generator = train_datagen.flow_from_directory(\n",
    "    train_dir,\n",
    "    target_size=(150, 150), # 모든 이미지를 150x150 크기로 바꾼다.\n",
    "    batch_size=20,\n",
    "    class_mode='binary' # binary_crossentropy 손실을 사용하기 때문에 이진 테이블이 필요\n",
    ")\n",
    "\n",
    "validation_generator = test_datagen.flow_from_directory(\n",
    "    validation_dir,\n",
    "    target_size=(150, 150),\n",
    "    batch_size=20,\n",
    "    class_mode='binary'\n",
    ")\n",
    "\n",
    "# 실행결과\n",
    "# Found 2000 images belonging to 2 classes.\n",
    "# Found 1000 images belonging to 2 classes."
   ]
  },
  {
   "cell_type": "code",
   "execution_count": 8,
   "metadata": {},
   "outputs": [
    {
     "name": "stdout",
     "output_type": "stream",
     "text": [
      "(20, 150, 150, 3)\n",
      "(20,)\n"
     ]
    }
   ],
   "source": [
    "for data_batch, labels_batch in train_generator:\n",
    "    print(data_batch.shape)\n",
    "    print(labels_batch.shape)\n",
    "    break\n",
    "\n",
    "# 배치 데이터 크기: (20, 150, 150, 3)\n",
    "# 배치 레이블 크기: (20,)"
   ]
  },
  {
   "cell_type": "code",
   "execution_count": 9,
   "metadata": {},
   "outputs": [
    {
     "name": "stdout",
     "output_type": "stream",
     "text": [
      "Epoch 1/30\n"
     ]
    },
    {
     "name": "stderr",
     "output_type": "stream",
     "text": [
      "C:\\Users\\poeun\\AppData\\Roaming\\Python\\Python37\\site-packages\\ipykernel_launcher.py:6: UserWarning: `Model.fit_generator` is deprecated and will be removed in a future version. Please use `Model.fit`, which supports generators.\n",
      "  \n"
     ]
    },
    {
     "name": "stdout",
     "output_type": "stream",
     "text": [
      "100/100 [==============================] - 47s 459ms/step - loss: 0.6905 - accuracy: 0.5255 - val_loss: 0.6710 - val_accuracy: 0.6180\n",
      "Epoch 2/30\n",
      "100/100 [==============================] - 37s 372ms/step - loss: 0.6514 - accuracy: 0.6200 - val_loss: 0.6280 - val_accuracy: 0.6450\n",
      "Epoch 3/30\n",
      "100/100 [==============================] - 36s 356ms/step - loss: 0.5993 - accuracy: 0.6845 - val_loss: 0.6189 - val_accuracy: 0.6440\n",
      "Epoch 4/30\n",
      "100/100 [==============================] - 36s 360ms/step - loss: 0.5578 - accuracy: 0.7165 - val_loss: 0.5985 - val_accuracy: 0.6570\n",
      "Epoch 5/30\n",
      "100/100 [==============================] - 35s 354ms/step - loss: 0.5346 - accuracy: 0.7335 - val_loss: 0.6304 - val_accuracy: 0.6560\n",
      "Epoch 6/30\n",
      "100/100 [==============================] - 37s 372ms/step - loss: 0.5094 - accuracy: 0.7455 - val_loss: 0.5777 - val_accuracy: 0.6860\n",
      "Epoch 7/30\n",
      "100/100 [==============================] - 38s 381ms/step - loss: 0.4791 - accuracy: 0.7580 - val_loss: 0.5833 - val_accuracy: 0.6960\n",
      "Epoch 8/30\n",
      "100/100 [==============================] - 36s 359ms/step - loss: 0.4580 - accuracy: 0.7805 - val_loss: 0.5822 - val_accuracy: 0.6940\n",
      "Epoch 9/30\n",
      "100/100 [==============================] - 39s 388ms/step - loss: 0.4335 - accuracy: 0.7945 - val_loss: 0.5437 - val_accuracy: 0.7170\n",
      "Epoch 10/30\n",
      "100/100 [==============================] - 39s 387ms/step - loss: 0.3993 - accuracy: 0.8205 - val_loss: 0.5511 - val_accuracy: 0.7240\n",
      "Epoch 11/30\n",
      "100/100 [==============================] - 38s 375ms/step - loss: 0.3750 - accuracy: 0.8290 - val_loss: 0.5301 - val_accuracy: 0.7340\n",
      "Epoch 12/30\n",
      "100/100 [==============================] - 38s 382ms/step - loss: 0.3523 - accuracy: 0.8490 - val_loss: 0.7097 - val_accuracy: 0.6960\n",
      "Epoch 13/30\n",
      "100/100 [==============================] - 36s 355ms/step - loss: 0.3299 - accuracy: 0.8635 - val_loss: 0.6059 - val_accuracy: 0.7110\n",
      "Epoch 14/30\n",
      "100/100 [==============================] - 36s 356ms/step - loss: 0.3042 - accuracy: 0.8655 - val_loss: 0.5703 - val_accuracy: 0.7300\n",
      "Epoch 15/30\n",
      "100/100 [==============================] - 35s 354ms/step - loss: 0.2858 - accuracy: 0.8715 - val_loss: 0.5828 - val_accuracy: 0.7440\n",
      "Epoch 16/30\n",
      "100/100 [==============================] - 36s 363ms/step - loss: 0.2666 - accuracy: 0.8940 - val_loss: 0.5788 - val_accuracy: 0.7350\n",
      "Epoch 17/30\n",
      "100/100 [==============================] - 36s 356ms/step - loss: 0.2468 - accuracy: 0.9005 - val_loss: 0.5644 - val_accuracy: 0.7470\n",
      "Epoch 18/30\n",
      "100/100 [==============================] - 36s 356ms/step - loss: 0.2253 - accuracy: 0.9105 - val_loss: 0.6467 - val_accuracy: 0.7350\n",
      "Epoch 19/30\n",
      "100/100 [==============================] - 36s 356ms/step - loss: 0.2009 - accuracy: 0.9235 - val_loss: 0.6226 - val_accuracy: 0.7370\n",
      "Epoch 20/30\n",
      "100/100 [==============================] - 35s 354ms/step - loss: 0.1804 - accuracy: 0.9325 - val_loss: 0.6401 - val_accuracy: 0.7380\n",
      "Epoch 21/30\n",
      "100/100 [==============================] - 36s 355ms/step - loss: 0.1653 - accuracy: 0.9435 - val_loss: 0.6444 - val_accuracy: 0.7510\n",
      "Epoch 22/30\n",
      "100/100 [==============================] - 36s 362ms/step - loss: 0.1442 - accuracy: 0.9465 - val_loss: 0.6476 - val_accuracy: 0.7480\n",
      "Epoch 23/30\n",
      "100/100 [==============================] - 35s 349ms/step - loss: 0.1309 - accuracy: 0.9525 - val_loss: 0.7088 - val_accuracy: 0.7330\n",
      "Epoch 24/30\n",
      "100/100 [==============================] - 37s 375ms/step - loss: 0.1162 - accuracy: 0.9685 - val_loss: 0.6959 - val_accuracy: 0.7390\n",
      "Epoch 25/30\n",
      "100/100 [==============================] - 41s 411ms/step - loss: 0.1025 - accuracy: 0.9670 - val_loss: 0.6939 - val_accuracy: 0.7500\n",
      "Epoch 26/30\n",
      "100/100 [==============================] - 40s 397ms/step - loss: 0.0926 - accuracy: 0.9735 - val_loss: 0.6967 - val_accuracy: 0.7560\n",
      "Epoch 27/30\n",
      "100/100 [==============================] - 38s 384ms/step - loss: 0.0754 - accuracy: 0.9775 - val_loss: 0.8171 - val_accuracy: 0.7330\n",
      "Epoch 28/30\n",
      "100/100 [==============================] - 38s 383ms/step - loss: 0.0643 - accuracy: 0.9845 - val_loss: 0.8146 - val_accuracy: 0.7450\n",
      "Epoch 29/30\n",
      "100/100 [==============================] - 36s 358ms/step - loss: 0.0601 - accuracy: 0.9830 - val_loss: 0.9277 - val_accuracy: 0.7310\n",
      "Epoch 30/30\n",
      "100/100 [==============================] - 40s 396ms/step - loss: 0.0494 - accuracy: 0.9895 - val_loss: 0.8617 - val_accuracy: 0.7500\n"
     ]
    }
   ],
   "source": [
    "history = model.fit_generator(\n",
    "    train_generator,\n",
    "    steps_per_epoch=100,\n",
    "    epochs=30,\n",
    "    validation_data=validation_generator,\n",
    "    validation_steps=50\n",
    "    )"
   ]
  },
  {
   "cell_type": "code",
   "execution_count": 10,
   "metadata": {},
   "outputs": [],
   "source": [
    "model.save('f:/data/dogs-vs-cats/cats_and_dogs_small_1.h5')"
   ]
  },
  {
   "cell_type": "code",
   "execution_count": 11,
   "metadata": {},
   "outputs": [
    {
     "data": {
      "image/png": "[encoded data removed]",
      "text/plain": [
       "<Figure size 432x288 with 1 Axes>"
      ]
     },
     "metadata": {
      "needs_background": "light"
     },
     "output_type": "display_data"
    },
    {
     "data": {
      "image/png": "[encoded data removed]",
      "text/plain": [
       "<Figure size 432x288 with 1 Axes>"
      ]
     },
     "metadata": {
      "needs_background": "light"
     },
     "output_type": "display_data"
    }
   ],
   "source": [
    "# 훈련의 정확도와 손실 그래프 그리기\n",
    "import matplotlib.pyplot as plt\n",
    "\n",
    "history.history.keys()\n",
    "# dict_keys(['loss', 'accuracy', 'val_loss', 'val_accuracy'])\n",
    "\n",
    "loss = history.history['loss']\n",
    "val_loss = history.history['val_loss']\n",
    "\n",
    "epochs = range(1, len(loss) + 1)\n",
    "\n",
    "plt.plot(epochs, loss, 'bo', label='Training loss')\n",
    "plt.plot(epochs, val_loss, 'b', label='Validaion loss')\n",
    "plt.title('Training and validation loss')\n",
    "plt.xlabel('Epochs')\n",
    "plt.ylabel('Loss')\n",
    "plt.legend()\n",
    "\n",
    "plt.show()\n",
    "\n",
    "accuracy = history.history['accuracy']\n",
    "val_accuracy = history.history['val_accuracy']\n",
    "\n",
    "plt.plot(epochs, accuracy, 'bo', label='Training accuracy')\n",
    "plt.plot(epochs, val_accuracy, 'b', label='Validaion accuracy')\n",
    "plt.title('Training and validation loss')\n",
    "plt.xlabel('Epochs')\n",
    "plt.ylabel('accuracy')\n",
    "plt.legend()\n",
    "\n",
    "plt.show()"
   ]
  }
 ],
 "metadata": {
  "interpreter": {
   "hash": "aa58c0ed82c692c0b88754a3c2a9e69ead6d1ad4625cc9925c53cda4c083e0fe"
  },
  "kernelspec": {
   "display_name": "Python 3.7.11 64-bit ('tf2.2': conda)",
   "language": "python",
   "name": "python3"
  },
  "language_info": {
   "codemirror_mode": {
    "name": "ipython",
    "version": 3
   },
   "file_extension": ".py",
   "mimetype": "text/x-python",
   "name": "python",
   "nbconvert_exporter": "python",
   "pygments_lexer": "ipython3",
   "version": "3.6.13"
  },
  "orig_nbformat": 4
 },
 "nbformat": 4,
 "nbformat_minor": 2
}
