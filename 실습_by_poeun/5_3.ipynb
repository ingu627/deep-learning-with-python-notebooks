{
 "cells": [
  {
   "cell_type": "code",
   "execution_count": 1,
   "metadata": {},
   "outputs": [],
   "source": [
    "from tensorflow.keras.applications import VGG16\n",
    "\n",
    "conv_base = VGG16(weights = 'imagenet',\n",
    "                  include_top = False,\n",
    "                  input_shape=(150,150,3))"
   ]
  },
  {
   "cell_type": "code",
   "execution_count": 2,
   "metadata": {},
   "outputs": [
    {
     "name": "stdout",
     "output_type": "stream",
     "text": [
      "Model: \"vgg16\"\n",
      "_________________________________________________________________\n",
      "Layer (type)                 Output Shape              Param #   \n",
      "=================================================================\n",
      "input_1 (InputLayer)         [(None, 150, 150, 3)]     0         \n",
      "_________________________________________________________________\n",
      "block1_conv1 (Conv2D)        (None, 150, 150, 64)      1792      \n",
      "_________________________________________________________________\n",
      "block1_conv2 (Conv2D)        (None, 150, 150, 64)      36928     \n",
      "_________________________________________________________________\n",
      "block1_pool (MaxPooling2D)   (None, 75, 75, 64)        0         \n",
      "_________________________________________________________________\n",
      "block2_conv1 (Conv2D)        (None, 75, 75, 128)       73856     \n",
      "_________________________________________________________________\n",
      "block2_conv2 (Conv2D)        (None, 75, 75, 128)       147584    \n",
      "_________________________________________________________________\n",
      "block2_pool (MaxPooling2D)   (None, 37, 37, 128)       0         \n",
      "_________________________________________________________________\n",
      "block3_conv1 (Conv2D)        (None, 37, 37, 256)       295168    \n",
      "_________________________________________________________________\n",
      "block3_conv2 (Conv2D)        (None, 37, 37, 256)       590080    \n",
      "_________________________________________________________________\n",
      "block3_conv3 (Conv2D)        (None, 37, 37, 256)       590080    \n",
      "_________________________________________________________________\n",
      "block3_pool (MaxPooling2D)   (None, 18, 18, 256)       0         \n",
      "_________________________________________________________________\n",
      "block4_conv1 (Conv2D)        (None, 18, 18, 512)       1180160   \n",
      "_________________________________________________________________\n",
      "block4_conv2 (Conv2D)        (None, 18, 18, 512)       2359808   \n",
      "_________________________________________________________________\n",
      "block4_conv3 (Conv2D)        (None, 18, 18, 512)       2359808   \n",
      "_________________________________________________________________\n",
      "block4_pool (MaxPooling2D)   (None, 9, 9, 512)         0         \n",
      "_________________________________________________________________\n",
      "block5_conv1 (Conv2D)        (None, 9, 9, 512)         2359808   \n",
      "_________________________________________________________________\n",
      "block5_conv2 (Conv2D)        (None, 9, 9, 512)         2359808   \n",
      "_________________________________________________________________\n",
      "block5_conv3 (Conv2D)        (None, 9, 9, 512)         2359808   \n",
      "_________________________________________________________________\n",
      "block5_pool (MaxPooling2D)   (None, 4, 4, 512)         0         \n",
      "=================================================================\n",
      "Total params: 14,714,688\n",
      "Trainable params: 14,714,688\n",
      "Non-trainable params: 0\n",
      "_________________________________________________________________\n"
     ]
    }
   ],
   "source": [
    "conv_base.summary()"
   ]
  },
  {
   "cell_type": "code",
   "execution_count": 5,
   "metadata": {},
   "outputs": [
    {
     "name": "stdout",
     "output_type": "stream",
     "text": [
      "Found 2000 images belonging to 2 classes.\n",
      "Found 1000 images belonging to 2 classes.\n",
      "Found 1000 images belonging to 2 classes.\n"
     ]
    }
   ],
   "source": [
    "import os \n",
    "import numpy as np\n",
    "from tensorflow.keras.preprocessing.image import ImageDataGenerator\n",
    "\n",
    "base_dir = 'f:/data/dogs-vs-cats_small'\n",
    "train_dir = os.path.join(base_dir, 'train')\n",
    "validation_dir = os.path.join(base_dir, 'validation')\n",
    "test_dir = os.path.join(base_dir, 'test')\n",
    "\n",
    "# 객체 생성\n",
    "datagen = ImageDataGenerator(rescale=1./255)\n",
    "batch_size = 20\n",
    "\n",
    "def extract_features(directory, sample_count):\n",
    "    features = np.zeros(shape=(sample_count, 4, 4, 512))\n",
    "    labels = np.zeros(shape=(sample_count))\n",
    "    # 이미지 변형\n",
    "    generator = datagen.flow_from_directory(\n",
    "        directory,\n",
    "        target_size=(150,150),\n",
    "        batch_size=batch_size,\n",
    "        class_mode='binary'\n",
    "    )\n",
    "    i = 0\n",
    "    for inputs_batch, labels_batch in generator:\n",
    "        features_batch = conv_base.predict(inputs_batch)\n",
    "        features[i * batch_size : (i + 1) * batch_size] = features_batch\n",
    "        labels[i * batch_size : (i + 1) * batch_size] = labels_batch\n",
    "        i += 1\n",
    "        if i * batch_size >= sample_count:\n",
    "            break\n",
    "    return features, labels\n",
    "\n",
    "train_features, train_labels = extract_features(train_dir, 2000)\n",
    "validation_features, validation_labels = extract_features(validation_dir, 1000)\n",
    "test_features, test_labels = extract_features(test_dir, 1000)\n",
    "    "
   ]
  },
  {
   "cell_type": "code",
   "execution_count": 6,
   "metadata": {},
   "outputs": [],
   "source": [
    "train_features = np.reshape(train_features, (2000, 4*4*512))\n",
    "validation_features = np.reshape(validation_features, (1000, 4*4*512))\n",
    "test_features = np.reshape(test_features, (1000, 4*4*512))"
   ]
  },
  {
   "cell_type": "markdown",
   "metadata": {},
   "source": [
    "---"
   ]
  },
  {
   "cell_type": "code",
   "execution_count": null,
   "metadata": {},
   "outputs": [],
   "source": [
    "from tensorflow.keras.applications import VGG16\n",
    "\n",
    "conv_base = VGG16(weights = 'imagenet',\n",
    "                  include_top = False,\n",
    "                  input_shape=(150,150,3))"
   ]
  },
  {
   "cell_type": "code",
   "execution_count": 3,
   "metadata": {},
   "outputs": [],
   "source": [
    "from tensorflow.keras import models, layers\n",
    "\n",
    "model = models.Sequential()\n",
    "model.add(conv_base)\n",
    "model.add(layers.Flatten())\n",
    "model.add(layers.Dense(256, activation='relu'))\n",
    "model.add(layers.Dense(1, activation='sigmoid'))"
   ]
  },
  {
   "cell_type": "code",
   "execution_count": 4,
   "metadata": {},
   "outputs": [
    {
     "name": "stdout",
     "output_type": "stream",
     "text": [
      "Model: \"sequential\"\n",
      "_________________________________________________________________\n",
      "Layer (type)                 Output Shape              Param #   \n",
      "=================================================================\n",
      "vgg16 (Functional)           (None, 4, 4, 512)         14714688  \n",
      "_________________________________________________________________\n",
      "flatten (Flatten)            (None, 8192)              0         \n",
      "_________________________________________________________________\n",
      "dense (Dense)                (None, 256)               2097408   \n",
      "_________________________________________________________________\n",
      "dense_1 (Dense)              (None, 1)                 257       \n",
      "=================================================================\n",
      "Total params: 16,812,353\n",
      "Trainable params: 16,812,353\n",
      "Non-trainable params: 0\n",
      "_________________________________________________________________\n"
     ]
    }
   ],
   "source": [
    "model.summary()"
   ]
  },
  {
   "cell_type": "code",
   "execution_count": 6,
   "metadata": {},
   "outputs": [
    {
     "data": {
      "image/png": "[encoded data removed]",
      "text/plain": [
       "<IPython.core.display.Image object>"
      ]
     },
     "execution_count": 6,
     "metadata": {},
     "output_type": "execute_result"
    }
   ],
   "source": [
    "from tensorflow.keras.utils import plot_model\n",
    "\n",
    "plot_model(model)"
   ]
  },
  {
   "cell_type": "code",
   "execution_count": 8,
   "metadata": {},
   "outputs": [
    {
     "data": {
      "text/plain": [
       "4"
      ]
     },
     "execution_count": 8,
     "metadata": {},
     "output_type": "execute_result"
    }
   ],
   "source": [
    "len(model.trainable_weights)\n",
    "# conv_base를 동결하기 전 훈련되는 가중치의 수 : 30 \n",
    "conv_base.trainable = False\n",
    "len(model.trainable_weights)\n",
    "# conv_base를 동결하기 전 훈련되는 가중치의 수 : 4"
   ]
  },
  {
   "cell_type": "code",
   "execution_count": 13,
   "metadata": {},
   "outputs": [],
   "source": [
    "import tensorflow as tf\n",
    "\n",
    "tf.debugging.set_log_device_placement(True)"
   ]
  },
  {
   "cell_type": "code",
   "execution_count": 14,
   "metadata": {},
   "outputs": [
    {
     "name": "stdout",
     "output_type": "stream",
     "text": [
      "Found 2000 images belonging to 2 classes.\n",
      "Found 1000 images belonging to 2 classes.\n",
      "Epoch 1/30\n",
      "100/100 - 113s - loss: 0.4841 - accuracy: 0.8035 - val_loss: 0.3965 - val_accuracy: 0.8460\n",
      "Epoch 2/30\n",
      "100/100 - 21s - loss: 0.3840 - accuracy: 0.8390 - val_loss: 0.3341 - val_accuracy: 0.8630\n",
      "Epoch 3/30\n",
      "100/100 - 22s - loss: 0.3456 - accuracy: 0.8580 - val_loss: 0.3178 - val_accuracy: 0.8680\n",
      "Epoch 4/30\n",
      "100/100 - 21s - loss: 0.3203 - accuracy: 0.8695 - val_loss: 0.2857 - val_accuracy: 0.8840\n",
      "Epoch 5/30\n",
      "100/100 - 21s - loss: 0.3014 - accuracy: 0.8765 - val_loss: 0.2722 - val_accuracy: 0.8900\n",
      "Epoch 6/30\n",
      "100/100 - 21s - loss: 0.2962 - accuracy: 0.8805 - val_loss: 0.2629 - val_accuracy: 0.8950\n",
      "Epoch 7/30\n",
      "100/100 - 21s - loss: 0.2762 - accuracy: 0.8910 - val_loss: 0.2559 - val_accuracy: 0.8970\n",
      "Epoch 8/30\n",
      "100/100 - 20s - loss: 0.2740 - accuracy: 0.8870 - val_loss: 0.2502 - val_accuracy: 0.8980\n",
      "Epoch 9/30\n",
      "100/100 - 20s - loss: 0.2669 - accuracy: 0.8900 - val_loss: 0.2487 - val_accuracy: 0.9020\n",
      "Epoch 10/30\n",
      "100/100 - 21s - loss: 0.2527 - accuracy: 0.8930 - val_loss: 0.2458 - val_accuracy: 0.9060\n",
      "Epoch 11/30\n",
      "100/100 - 22s - loss: 0.2520 - accuracy: 0.9000 - val_loss: 0.2574 - val_accuracy: 0.8850\n",
      "Epoch 12/30\n",
      "100/100 - 20s - loss: 0.2378 - accuracy: 0.9010 - val_loss: 0.2667 - val_accuracy: 0.8770\n",
      "Epoch 13/30\n",
      "100/100 - 19s - loss: 0.2362 - accuracy: 0.9085 - val_loss: 0.2368 - val_accuracy: 0.9120\n",
      "Epoch 14/30\n",
      "100/100 - 19s - loss: 0.2330 - accuracy: 0.9080 - val_loss: 0.2353 - val_accuracy: 0.9090\n",
      "Epoch 15/30\n",
      "100/100 - 18s - loss: 0.2209 - accuracy: 0.9085 - val_loss: 0.2341 - val_accuracy: 0.9060\n",
      "Epoch 16/30\n",
      "100/100 - 20s - loss: 0.2248 - accuracy: 0.9115 - val_loss: 0.2357 - val_accuracy: 0.9020\n",
      "Epoch 17/30\n",
      "100/100 - 19s - loss: 0.2251 - accuracy: 0.9055 - val_loss: 0.2354 - val_accuracy: 0.9040\n",
      "Epoch 18/30\n",
      "100/100 - 21s - loss: 0.2136 - accuracy: 0.9140 - val_loss: 0.2344 - val_accuracy: 0.9020\n",
      "Epoch 19/30\n",
      "100/100 - 20s - loss: 0.2051 - accuracy: 0.9185 - val_loss: 0.2415 - val_accuracy: 0.9030\n",
      "Epoch 20/30\n",
      "100/100 - 18s - loss: 0.2111 - accuracy: 0.9115 - val_loss: 0.2393 - val_accuracy: 0.9040\n",
      "Epoch 21/30\n",
      "100/100 - 19s - loss: 0.2039 - accuracy: 0.9150 - val_loss: 0.2352 - val_accuracy: 0.9050\n",
      "Epoch 22/30\n",
      "100/100 - 20s - loss: 0.2055 - accuracy: 0.9215 - val_loss: 0.2369 - val_accuracy: 0.9060\n",
      "Epoch 23/30\n",
      "100/100 - 21s - loss: 0.1978 - accuracy: 0.9235 - val_loss: 0.2308 - val_accuracy: 0.9090\n",
      "Epoch 24/30\n",
      "100/100 - 20s - loss: 0.2002 - accuracy: 0.9210 - val_loss: 0.2403 - val_accuracy: 0.9050\n",
      "Epoch 25/30\n",
      "100/100 - 20s - loss: 0.1895 - accuracy: 0.9310 - val_loss: 0.2395 - val_accuracy: 0.9120\n",
      "Epoch 26/30\n",
      "100/100 - 19s - loss: 0.1888 - accuracy: 0.9280 - val_loss: 0.2301 - val_accuracy: 0.9090\n",
      "Epoch 27/30\n",
      "100/100 - 19s - loss: 0.2007 - accuracy: 0.9205 - val_loss: 0.2303 - val_accuracy: 0.9140\n",
      "Epoch 28/30\n",
      "100/100 - 20s - loss: 0.1921 - accuracy: 0.9265 - val_loss: 0.2339 - val_accuracy: 0.9040\n",
      "Epoch 29/30\n",
      "100/100 - 19s - loss: 0.1909 - accuracy: 0.9185 - val_loss: 0.2450 - val_accuracy: 0.8990\n",
      "Epoch 30/30\n",
      "100/100 - 20s - loss: 0.1888 - accuracy: 0.9250 - val_loss: 0.2330 - val_accuracy: 0.9110\n"
     ]
    }
   ],
   "source": [
    "import os \n",
    "import numpy as np\n",
    "from tensorflow.keras.preprocessing.image import ImageDataGenerator\n",
    "from tensorflow.keras import optimizers\n",
    "\n",
    "base_dir = 'f:/data/dogs-vs-cats_small'\n",
    "train_dir = os.path.join(base_dir, 'train')\n",
    "validation_dir = os.path.join(base_dir, 'validation')\n",
    "test_dir = os.path.join(base_dir, 'test')\n",
    "\n",
    "train_datagen = ImageDataGenerator(\n",
    "    rescale=1./255,\n",
    "    rotation_range=20,\n",
    "    width_shift_range=0.1,\n",
    "    height_shift_range=0.1,\n",
    "    shear_range=0.1,\n",
    "    zoom_range=0.1,\n",
    "    horizontal_flip=True,\n",
    "    fill_mode=\"nearest\")\n",
    "\n",
    "test_datagen = ImageDataGenerator(rescale=1./255) # 검증 데이터는 증식되어서는 안된다.\n",
    "\n",
    "train_generator = train_datagen.flow_from_directory(\n",
    "    train_dir, # 타깃 디렉터리\n",
    "    target_size=(150,150),\n",
    "    batch_size=20,\n",
    "    class_mode='binary'\n",
    ")\n",
    "\n",
    "validation_generator = test_datagen.flow_from_directory(\n",
    "    validation_dir, # 타깃 디렉터리\n",
    "    target_size=(150,150),\n",
    "    batch_size=20,\n",
    "    class_mode='binary'\n",
    ")\n",
    "\n",
    "model.compile(optimizer=optimizers.RMSprop(lr=2e-5),\n",
    "              loss='binary_crossentropy',\n",
    "              metrics=['accuracy'])\n",
    "\n",
    "history = model.fit_generator(\n",
    "    train_generator,\n",
    "    steps_per_epoch=100,\n",
    "    epochs=30,\n",
    "    validation_data=validation_generator,\n",
    "    validation_steps=50,\n",
    "    verbose=2\n",
    ")"
   ]
  },
  {
   "cell_type": "code",
   "execution_count": 15,
   "metadata": {},
   "outputs": [
    {
     "data": {
      "image/png": "[encoded data removed]",
      "text/plain": [
       "<Figure size 432x288 with 1 Axes>"
      ]
     },
     "metadata": {
      "needs_background": "light"
     },
     "output_type": "display_data"
    },
    {
     "data": {
      "image/png": "[encoded data removed]",
      "text/plain": [
       "<Figure size 432x288 with 1 Axes>"
      ]
     },
     "metadata": {
      "needs_background": "light"
     },
     "output_type": "display_data"
    }
   ],
   "source": [
    "# 훈련의 정확도와 손실 그래프 그리기\n",
    "import matplotlib.pyplot as plt\n",
    "\n",
    "history.history.keys()\n",
    "# dict_keys(['loss', 'accuracy', 'val_loss', 'val_accuracy'])\n",
    "\n",
    "loss = history.history['loss']\n",
    "val_loss = history.history['val_loss']\n",
    "\n",
    "epochs = range(1, len(loss) + 1)\n",
    "\n",
    "plt.plot(epochs, loss, 'bo', label='Training loss')\n",
    "plt.plot(epochs, val_loss, 'b', label='Validaion loss')\n",
    "plt.title('Training and validation loss')\n",
    "plt.xlabel('Epochs')\n",
    "plt.ylabel('Loss')\n",
    "plt.legend()\n",
    "\n",
    "plt.show()\n",
    "\n",
    "accuracy = history.history['accuracy']\n",
    "val_accuracy = history.history['val_accuracy']\n",
    "\n",
    "plt.plot(epochs, accuracy, 'bo', label='Training accuracy')\n",
    "plt.plot(epochs, val_accuracy, 'b', label='Validaion accuracy')\n",
    "plt.title('Training and validation loss')\n",
    "plt.xlabel('Epochs')\n",
    "plt.ylabel('accuracy')\n",
    "plt.legend()\n",
    "\n",
    "plt.show()"
   ]
  },
  {
   "cell_type": "code",
   "execution_count": 16,
   "metadata": {},
   "outputs": [],
   "source": [
    "model.save('f:/data/dogs-vs-cats/cats_and_dogs_small_3.h5')"
   ]
  },
  {
   "cell_type": "code",
   "execution_count": 17,
   "metadata": {},
   "outputs": [
    {
     "name": "stdout",
     "output_type": "stream",
     "text": [
      "Model: \"vgg16\"\n",
      "_________________________________________________________________\n",
      "Layer (type)                 Output Shape              Param #   \n",
      "=================================================================\n",
      "input_1 (InputLayer)         [(None, 150, 150, 3)]     0         \n",
      "_________________________________________________________________\n",
      "block1_conv1 (Conv2D)        (None, 150, 150, 64)      1792      \n",
      "_________________________________________________________________\n",
      "block1_conv2 (Conv2D)        (None, 150, 150, 64)      36928     \n",
      "_________________________________________________________________\n",
      "block1_pool (MaxPooling2D)   (None, 75, 75, 64)        0         \n",
      "_________________________________________________________________\n",
      "block2_conv1 (Conv2D)        (None, 75, 75, 128)       73856     \n",
      "_________________________________________________________________\n",
      "block2_conv2 (Conv2D)        (None, 75, 75, 128)       147584    \n",
      "_________________________________________________________________\n",
      "block2_pool (MaxPooling2D)   (None, 37, 37, 128)       0         \n",
      "_________________________________________________________________\n",
      "block3_conv1 (Conv2D)        (None, 37, 37, 256)       295168    \n",
      "_________________________________________________________________\n",
      "block3_conv2 (Conv2D)        (None, 37, 37, 256)       590080    \n",
      "_________________________________________________________________\n",
      "block3_conv3 (Conv2D)        (None, 37, 37, 256)       590080    \n",
      "_________________________________________________________________\n",
      "block3_pool (MaxPooling2D)   (None, 18, 18, 256)       0         \n",
      "_________________________________________________________________\n",
      "block4_conv1 (Conv2D)        (None, 18, 18, 512)       1180160   \n",
      "_________________________________________________________________\n",
      "block4_conv2 (Conv2D)        (None, 18, 18, 512)       2359808   \n",
      "_________________________________________________________________\n",
      "block4_conv3 (Conv2D)        (None, 18, 18, 512)       2359808   \n",
      "_________________________________________________________________\n",
      "block4_pool (MaxPooling2D)   (None, 9, 9, 512)         0         \n",
      "_________________________________________________________________\n",
      "block5_conv1 (Conv2D)        (None, 9, 9, 512)         2359808   \n",
      "_________________________________________________________________\n",
      "block5_conv2 (Conv2D)        (None, 9, 9, 512)         2359808   \n",
      "_________________________________________________________________\n",
      "block5_conv3 (Conv2D)        (None, 9, 9, 512)         2359808   \n",
      "_________________________________________________________________\n",
      "block5_pool (MaxPooling2D)   (None, 4, 4, 512)         0         \n",
      "=================================================================\n",
      "Total params: 14,714,688\n",
      "Trainable params: 0\n",
      "Non-trainable params: 14,714,688\n",
      "_________________________________________________________________\n"
     ]
    }
   ],
   "source": [
    "conv_base.summary()"
   ]
  },
  {
   "cell_type": "code",
   "execution_count": 18,
   "metadata": {},
   "outputs": [
    {
     "data": {
      "text/plain": [
       "[<tensorflow.python.keras.engine.input_layer.InputLayer at 0x125a7966da0>,\n",
       " <tensorflow.python.keras.layers.convolutional.Conv2D at 0x125be8b7f60>,\n",
       " <tensorflow.python.keras.layers.convolutional.Conv2D at 0x125be8ebf28>,\n",
       " <tensorflow.python.keras.layers.pooling.MaxPooling2D at 0x125be956320>,\n",
       " <tensorflow.python.keras.layers.convolutional.Conv2D at 0x125be95f048>,\n",
       " <tensorflow.python.keras.layers.convolutional.Conv2D at 0x125be956b38>,\n",
       " <tensorflow.python.keras.layers.pooling.MaxPooling2D at 0x125be965710>,\n",
       " <tensorflow.python.keras.layers.convolutional.Conv2D at 0x125be96d668>,\n",
       " <tensorflow.python.keras.layers.convolutional.Conv2D at 0x125be96d8d0>,\n",
       " <tensorflow.python.keras.layers.convolutional.Conv2D at 0x125c4c13da0>,\n",
       " <tensorflow.python.keras.layers.pooling.MaxPooling2D at 0x125c4c19e48>,\n",
       " <tensorflow.python.keras.layers.convolutional.Conv2D at 0x125c4c1ef98>,\n",
       " <tensorflow.python.keras.layers.convolutional.Conv2D at 0x125c4c1e320>,\n",
       " <tensorflow.python.keras.layers.convolutional.Conv2D at 0x125c4c24898>,\n",
       " <tensorflow.python.keras.layers.pooling.MaxPooling2D at 0x125c4c2c550>,\n",
       " <tensorflow.python.keras.layers.convolutional.Conv2D at 0x125c4c2c780>,\n",
       " <tensorflow.python.keras.layers.convolutional.Conv2D at 0x125c4c336d8>,\n",
       " <tensorflow.python.keras.layers.convolutional.Conv2D at 0x125c4c3ba90>,\n",
       " <tensorflow.python.keras.layers.pooling.MaxPooling2D at 0x125c4c41f98>]"
      ]
     },
     "execution_count": 18,
     "metadata": {},
     "output_type": "execute_result"
    }
   ],
   "source": [
    "conv_base.layers"
   ]
  },
  {
   "cell_type": "code",
   "execution_count": 20,
   "metadata": {},
   "outputs": [],
   "source": [
    "conv_base.trainable = True\n",
    "\n",
    "set_trainable = False\n",
    "for layer in conv_base.layers:\n",
    "    if layer.name == 'block5_conv1':\n",
    "        set_trainable = True\n",
    "    if set_trainable:\n",
    "        layer.trainable = True\n",
    "    else:\n",
    "        layer.trainable = False"
   ]
  },
  {
   "cell_type": "code",
   "execution_count": 23,
   "metadata": {},
   "outputs": [
    {
     "name": "stdout",
     "output_type": "stream",
     "text": [
      "Virtual devices cannot be modified after being initialized\n"
     ]
    }
   ],
   "source": [
    "import tensorflow as tf\n",
    "\n",
    "gpus = tf.config.experimental.list_physical_devices('GPU')\n",
    "if gpus:\n",
    "    # 특정 GPU에 2048GB 메모리만 할당하도록 제한\n",
    "    try:\n",
    "        tf.config.experimental.set_visible_devices(gpus[0], 'GPU')\n",
    "        tf.config.experimental.set_virtual_device_configuration(\n",
    "            gpus[0],\n",
    "            [tf.config.experimental.VirtualDeviceConfiguration(memory_limit=2048)])\n",
    "    except RuntimeError as e:\n",
    "    # 프로그램 시작시에 가상 장치가 설정되어야만 합니다\n",
    "        print(e)"
   ]
  },
  {
   "cell_type": "code",
   "execution_count": 24,
   "metadata": {},
   "outputs": [
    {
     "name": "stdout",
     "output_type": "stream",
     "text": [
      "Epoch 1/100\n",
      "100/100 [==============================] - 22s 206ms/step - loss: 0.1463 - accuracy: 0.9439 - val_loss: 0.2253 - val_accuracy: 0.9130\n",
      "Epoch 2/100\n",
      "100/100 [==============================] - 20s 204ms/step - loss: 0.1143 - accuracy: 0.9590 - val_loss: 0.2157 - val_accuracy: 0.9220\n",
      "Epoch 3/100\n",
      "100/100 [==============================] - 20s 203ms/step - loss: 0.0993 - accuracy: 0.9690 - val_loss: 0.2620 - val_accuracy: 0.9080\n",
      "Epoch 4/100\n",
      "100/100 [==============================] - 21s 210ms/step - loss: 0.0828 - accuracy: 0.9683 - val_loss: 0.2259 - val_accuracy: 0.9140\n",
      "Epoch 5/100\n",
      "100/100 [==============================] - 20s 204ms/step - loss: 0.0718 - accuracy: 0.9723 - val_loss: 0.2253 - val_accuracy: 0.9190\n",
      "Epoch 6/100\n",
      "100/100 [==============================] - 22s 214ms/step - loss: 0.0689 - accuracy: 0.9768 - val_loss: 0.2174 - val_accuracy: 0.9230\n",
      "Epoch 7/100\n",
      "100/100 [==============================] - 18s 178ms/step - loss: 0.0655 - accuracy: 0.9738 - val_loss: 0.2540 - val_accuracy: 0.9110\n",
      "Epoch 8/100\n",
      "100/100 [==============================] - 20s 198ms/step - loss: 0.0440 - accuracy: 0.9837 - val_loss: 0.2152 - val_accuracy: 0.9280\n",
      "Epoch 9/100\n",
      "100/100 [==============================] - 20s 202ms/step - loss: 0.0446 - accuracy: 0.9860 - val_loss: 0.2207 - val_accuracy: 0.9300\n",
      "Epoch 10/100\n",
      "100/100 [==============================] - 22s 217ms/step - loss: 0.0414 - accuracy: 0.9872 - val_loss: 0.2147 - val_accuracy: 0.9280\n",
      "Epoch 11/100\n",
      "100/100 [==============================] - 22s 214ms/step - loss: 0.0576 - accuracy: 0.9783 - val_loss: 0.2206 - val_accuracy: 0.9300\n",
      "Epoch 12/100\n",
      "100/100 [==============================] - 20s 195ms/step - loss: 0.0340 - accuracy: 0.9880 - val_loss: 0.2403 - val_accuracy: 0.9310\n",
      "Epoch 13/100\n",
      "100/100 [==============================] - 23s 227ms/step - loss: 0.0350 - accuracy: 0.9892 - val_loss: 0.3679 - val_accuracy: 0.8940\n",
      "Epoch 14/100\n",
      "100/100 [==============================] - 21s 209ms/step - loss: 0.0369 - accuracy: 0.9914 - val_loss: 0.2301 - val_accuracy: 0.9360\n",
      "Epoch 15/100\n",
      "100/100 [==============================] - 22s 218ms/step - loss: 0.0186 - accuracy: 0.9946 - val_loss: 0.2319 - val_accuracy: 0.9360\n",
      "Epoch 16/100\n",
      "100/100 [==============================] - 18s 179ms/step - loss: 0.0229 - accuracy: 0.9937 - val_loss: 0.3490 - val_accuracy: 0.9020\n",
      "Epoch 17/100\n",
      "100/100 [==============================] - 21s 212ms/step - loss: 0.0282 - accuracy: 0.9892 - val_loss: 0.2527 - val_accuracy: 0.9300\n",
      "Epoch 18/100\n",
      "100/100 [==============================] - 20s 200ms/step - loss: 0.0267 - accuracy: 0.9930 - val_loss: 0.3229 - val_accuracy: 0.9120\n",
      "Epoch 19/100\n",
      "100/100 [==============================] - 23s 234ms/step - loss: 0.0223 - accuracy: 0.9935 - val_loss: 0.3022 - val_accuracy: 0.9220\n",
      "Epoch 20/100\n",
      "100/100 [==============================] - 21s 212ms/step - loss: 0.0176 - accuracy: 0.9967 - val_loss: 0.2632 - val_accuracy: 0.9260\n",
      "Epoch 21/100\n",
      "100/100 [==============================] - 20s 197ms/step - loss: 0.0145 - accuracy: 0.9950 - val_loss: 0.2521 - val_accuracy: 0.9330\n",
      "Epoch 22/100\n",
      "100/100 [==============================] - 20s 202ms/step - loss: 0.0174 - accuracy: 0.9960 - val_loss: 0.2392 - val_accuracy: 0.9310\n",
      "Epoch 23/100\n",
      "100/100 [==============================] - 21s 203ms/step - loss: 0.0103 - accuracy: 0.9968 - val_loss: 0.2576 - val_accuracy: 0.9270\n",
      "Epoch 24/100\n",
      "100/100 [==============================] - 18s 180ms/step - loss: 0.0113 - accuracy: 0.9963 - val_loss: 0.2672 - val_accuracy: 0.9330\n",
      "Epoch 25/100\n",
      "100/100 [==============================] - 18s 177ms/step - loss: 0.0133 - accuracy: 0.9955 - val_loss: 0.2696 - val_accuracy: 0.9300\n",
      "Epoch 26/100\n",
      "100/100 [==============================] - 20s 196ms/step - loss: 0.0126 - accuracy: 0.9956 - val_loss: 0.2713 - val_accuracy: 0.9400\n",
      "Epoch 27/100\n",
      "100/100 [==============================] - 22s 223ms/step - loss: 0.0103 - accuracy: 0.9974 - val_loss: 0.2604 - val_accuracy: 0.9370\n",
      "Epoch 28/100\n",
      "100/100 [==============================] - 22s 218ms/step - loss: 0.0113 - accuracy: 0.9957 - val_loss: 0.2315 - val_accuracy: 0.9390\n",
      "Epoch 29/100\n",
      "100/100 [==============================] - 21s 211ms/step - loss: 0.0100 - accuracy: 0.9977 - val_loss: 0.2648 - val_accuracy: 0.9360\n",
      "Epoch 30/100\n",
      "100/100 [==============================] - 22s 214ms/step - loss: 0.0136 - accuracy: 0.9959 - val_loss: 0.3133 - val_accuracy: 0.9260\n",
      "Epoch 31/100\n",
      " 63/100 [=================>............] - ETA: 6s - loss: 0.0117 - accuracy: 0.9957"
     ]
    }
   ],
   "source": [
    "model.compile(optimizer=optimizers.RMSprop(lr=1e-5),\n",
    "              loss='binary_crossentropy',\n",
    "              metrics=['accuracy'])\n",
    "\n",
    "history = model.fit_generator(\n",
    "    train_generator,\n",
    "    steps_per_epoch=100,\n",
    "    epochs=100,\n",
    "    validation_data=validation_generator,\n",
    "    validation_steps=50\n",
    ")"
   ]
  },
  {
   "cell_type": "code",
   "execution_count": null,
   "metadata": {},
   "outputs": [],
   "source": [
    "# 훈련의 정확도와 손실 그래프 그리기\n",
    "import matplotlib.pyplot as plt\n",
    "\n",
    "history.history.keys()\n",
    "# dict_keys(['loss', 'accuracy', 'val_loss', 'val_accuracy'])\n",
    "\n",
    "loss = history.history['loss']\n",
    "val_loss = history.history['val_loss']\n",
    "\n",
    "epochs = range(1, len(loss) + 1)\n",
    "\n",
    "plt.plot(epochs, loss, 'bo', label='Training loss')\n",
    "plt.plot(epochs, val_loss, 'b', label='Validaion loss')\n",
    "plt.title('Training and validation loss')\n",
    "plt.xlabel('Epochs')\n",
    "plt.ylabel('Loss')\n",
    "plt.legend()\n",
    "\n",
    "plt.show()\n",
    "\n",
    "accuracy = history.history['accuracy']\n",
    "val_accuracy = history.history['val_accuracy']\n",
    "\n",
    "plt.plot(epochs, accuracy, 'bo', label='Training accuracy')\n",
    "plt.plot(epochs, val_accuracy, 'b', label='Validaion accuracy')\n",
    "plt.title('Training and validation loss')\n",
    "plt.xlabel('Epochs')\n",
    "plt.ylabel('accuracy')\n",
    "plt.legend()\n",
    "\n",
    "plt.show()"
   ]
  },
  {
   "cell_type": "code",
   "execution_count": null,
   "metadata": {},
   "outputs": [],
   "source": [
    "def smooth_curve(points, factor=0.8):\n",
    "    smoothed_points = []\n",
    "    for point in points:\n",
    "        if smoothed_points:\n",
    "            previous = smoothed_points[-1]\n",
    "            smoothed_points.append(previous * factor + point * (1 - factor))\n",
    "        else:\n",
    "            smoothed_points.append(point)\n",
    "    return smoothed_points\n",
    "\n",
    "plt.plot(epochs,\n",
    "         smooth_curve(accuracy), 'bo', label='Smoothed training acc')\n",
    "plt.plot(epochs,\n",
    "         smooth_curve(val_accuracy), 'b', label='Smoothed validation acc')\n",
    "plt.title('Training and validation accuracy')\n",
    "plt.legend()\n",
    "\n",
    "plt.figure()\n",
    "\n",
    "plt.plot(epochs,\n",
    "         smooth_curve(loss), 'bo', label='Smoothed training loss')\n",
    "plt.plot(epochs,\n",
    "         smooth_curve(val_loss), 'b', label='Smoothed validation validation loss')\n",
    "plt.title('Training and validation loss')\n",
    "plt.legend()\n",
    "\n",
    "plt.figure()"
   ]
  },
  {
   "cell_type": "code",
   "execution_count": null,
   "metadata": {},
   "outputs": [],
   "source": [
    "test_generator = test_datagen.flow_from_directory(\n",
    "    test_dir,\n",
    "    target_size=(150,150),\n",
    "    batch_size=20,\n",
    "    class_mode='binary'\n",
    ")\n",
    "\n",
    "test_loss, test_acc = model.evaluate_generator(test_generator, steps=50)\n",
    "print('test acc:', test_acc)"
   ]
  }
 ],
 "metadata": {
  "interpreter": {
   "hash": "57baa5815c940fdaff4d14510622de9616cae602444507ba5d0b6727c008cbd6"
  },
  "kernelspec": {
   "display_name": "Python 3.7.8 64-bit",
   "language": "python",
   "name": "python3"
  },
  "language_info": {
   "codemirror_mode": {
    "name": "ipython",
    "version": 3
   },
   "file_extension": ".py",
   "mimetype": "text/x-python",
   "name": "python",
   "nbconvert_exporter": "python",
   "pygments_lexer": "ipython3",
   "version": "3.6.13"
  },
  "orig_nbformat": 4
 },
 "nbformat": 4,
 "nbformat_minor": 2
}
