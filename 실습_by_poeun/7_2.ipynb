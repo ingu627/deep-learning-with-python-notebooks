{
 "cells": [
  {
   "cell_type": "code",
   "execution_count": 1,
   "metadata": {},
   "outputs": [
    {
     "name": "stderr",
     "output_type": "stream",
     "text": [
      "<string>:6: VisibleDeprecationWarning: Creating an ndarray from ragged nested sequences (which is a list-or-tuple of lists-or-tuples-or ndarrays with different lengths or shapes) is deprecated. If you meant to do this, you must specify 'dtype=object' when creating the ndarray\n",
      "C:\\Users\\poeun\\anaconda3\\envs\\tf2.4\\lib\\site-packages\\tensorflow\\python\\keras\\datasets\\imdb.py:159: VisibleDeprecationWarning: Creating an ndarray from ragged nested sequences (which is a list-or-tuple of lists-or-tuples-or ndarrays with different lengths or shapes) is deprecated. If you meant to do this, you must specify 'dtype=object' when creating the ndarray\n",
      "  x_train, y_train = np.array(xs[:idx]), np.array(labels[:idx])\n",
      "C:\\Users\\poeun\\anaconda3\\envs\\tf2.4\\lib\\site-packages\\tensorflow\\python\\keras\\datasets\\imdb.py:160: VisibleDeprecationWarning: Creating an ndarray from ragged nested sequences (which is a list-or-tuple of lists-or-tuples-or ndarrays with different lengths or shapes) is deprecated. If you meant to do this, you must specify 'dtype=object' when creating the ndarray\n",
      "  x_test, y_test = np.array(xs[idx:]), np.array(labels[idx:])\n"
     ]
    },
    {
     "name": "stdout",
     "output_type": "stream",
     "text": [
      "Model: \"sequential\"\n",
      "_________________________________________________________________\n",
      "Layer (type)                 Output Shape              Param #   \n",
      "=================================================================\n",
      "embed (Embedding)            (None, 500, 128)          256000    \n",
      "_________________________________________________________________\n",
      "conv1d (Conv1D)              (None, 494, 32)           28704     \n",
      "_________________________________________________________________\n",
      "max_pooling1d (MaxPooling1D) (None, 98, 32)            0         \n",
      "_________________________________________________________________\n",
      "conv1d_1 (Conv1D)            (None, 92, 32)            7200      \n",
      "_________________________________________________________________\n",
      "global_max_pooling1d (Global (None, 32)                0         \n",
      "_________________________________________________________________\n",
      "dense (Dense)                (None, 1)                 33        \n",
      "=================================================================\n",
      "Total params: 291,937\n",
      "Trainable params: 291,937\n",
      "Non-trainable params: 0\n",
      "_________________________________________________________________\n"
     ]
    }
   ],
   "source": [
    "import keras\n",
    "from tensorflow.keras import layers\n",
    "from tensorflow.keras.datasets import imdb\n",
    "from tensorflow.keras.preprocessing import sequence\n",
    "from tensorflow.keras.models import Sequential\n",
    "from tensorflow.keras.layers import Embedding, Conv1D, MaxPooling1D, GlobalMaxPooling1D, Dense\n",
    "\n",
    "\n",
    "max_features = 2000 # 특성으로 사용할 단어의 수\n",
    "max_len = 500 # 사용할 텍스트의 길이(가장 빈번한 max_features개의 단어만 사용)\n",
    "\n",
    "(x_train, y_train), (x_test, y_test) = imdb.load_data(num_words=max_len)\n",
    "x_train = sequence.pad_sequences(x_train, maxlen=max_len)\n",
    "x_test = sequence.pad_sequences(x_test, maxlen=max_len)\n",
    "\n",
    "model = Sequential()\n",
    "model.add(Embedding(max_features, 128,\n",
    "                    input_length=max_len,\n",
    "                    name='embed'))\n",
    "model.add(Conv1D(32, 7, activation='relu'))\n",
    "model.add(MaxPooling1D(5))\n",
    "model.add(Conv1D(32, 7, activation='relu'))\n",
    "model.add(GlobalMaxPooling1D())\n",
    "model.add(Dense(1))\n",
    "model.summary()\n",
    "model.compile(optimizer='rmsprop',\n",
    "              loss='binary_crossentropy',\n",
    "              metrics=['accuracy'])"
   ]
  },
  {
   "cell_type": "code",
   "execution_count": 4,
   "metadata": {},
   "outputs": [
    {
     "name": "stdout",
     "output_type": "stream",
     "text": [
      "Epoch 1/20\n",
      "157/157 [==============================] - 18s 51ms/step - loss: 7.7499 - accuracy: 0.4976 - val_loss: 7.6168 - val_accuracy: 0.5062\n",
      "Epoch 2/20\n",
      "157/157 [==============================] - 9s 56ms/step - loss: 7.6794 - accuracy: 0.5021 - val_loss: 7.6168 - val_accuracy: 0.5062\n",
      "Epoch 3/20\n",
      "157/157 [==============================] - 8s 53ms/step - loss: 7.6812 - accuracy: 0.5020 - val_loss: 7.6168 - val_accuracy: 0.5062\n",
      "Epoch 4/20\n",
      "157/157 [==============================] - 8s 51ms/step - loss: 7.6324 - accuracy: 0.5052 - val_loss: 7.6168 - val_accuracy: 0.5062\n",
      "Epoch 5/20\n",
      "157/157 [==============================] - 8s 52ms/step - loss: 7.7989 - accuracy: 0.4944 - val_loss: 7.6168 - val_accuracy: 0.5062\n",
      "Epoch 6/20\n",
      "157/157 [==============================] - 8s 48ms/step - loss: 7.7516 - accuracy: 0.4975 - val_loss: 7.6168 - val_accuracy: 0.5062\n",
      "Epoch 7/20\n",
      "157/157 [==============================] - 8s 48ms/step - loss: 7.6353 - accuracy: 0.5050 - val_loss: 7.6168 - val_accuracy: 0.5062\n",
      "Epoch 8/20\n",
      "157/157 [==============================] - 7s 48ms/step - loss: 7.7709 - accuracy: 0.4962 - val_loss: 7.6168 - val_accuracy: 0.5062\n",
      "Epoch 9/20\n",
      "157/157 [==============================] - 8s 49ms/step - loss: 7.7516 - accuracy: 0.4975 - val_loss: 7.6168 - val_accuracy: 0.5062\n",
      "Epoch 10/20\n",
      "157/157 [==============================] - 8s 49ms/step - loss: 7.7379 - accuracy: 0.4984 - val_loss: 7.6168 - val_accuracy: 0.5062\n",
      "Epoch 11/20\n",
      "157/157 [==============================] - 8s 48ms/step - loss: 7.8504 - accuracy: 0.4911 - val_loss: 7.6168 - val_accuracy: 0.5062\n",
      "Epoch 12/20\n",
      "157/157 [==============================] - 9s 60ms/step - loss: 7.7993 - accuracy: 0.4944 - val_loss: 7.6168 - val_accuracy: 0.5062\n",
      "Epoch 13/20\n",
      "157/157 [==============================] - 10s 65ms/step - loss: 7.7317 - accuracy: 0.4988 - val_loss: 7.6168 - val_accuracy: 0.5062\n",
      "Epoch 14/20\n",
      "157/157 [==============================] - 8s 48ms/step - loss: 7.7895 - accuracy: 0.4950 - val_loss: 7.6168 - val_accuracy: 0.5062\n",
      "Epoch 15/20\n",
      "157/157 [==============================] - 8s 48ms/step - loss: 7.6947 - accuracy: 0.5012 - val_loss: 7.6168 - val_accuracy: 0.5062\n",
      "Epoch 16/20\n",
      "157/157 [==============================] - 8s 50ms/step - loss: 7.7517 - accuracy: 0.4975 - val_loss: 7.6168 - val_accuracy: 0.5062\n",
      "Epoch 17/20\n",
      "157/157 [==============================] - 8s 53ms/step - loss: 7.6781 - accuracy: 0.5022 - val_loss: 7.6168 - val_accuracy: 0.5062\n",
      "Epoch 18/20\n",
      "157/157 [==============================] - 8s 48ms/step - loss: 7.7512 - accuracy: 0.4975 - val_loss: 7.6168 - val_accuracy: 0.5062\n",
      "Epoch 19/20\n",
      "157/157 [==============================] - 8s 51ms/step - loss: 7.7519 - accuracy: 0.4974 - val_loss: 7.6168 - val_accuracy: 0.5062\n",
      "Epoch 20/20\n",
      "157/157 [==============================] - 8s 49ms/step - loss: 7.7601 - accuracy: 0.4969 - val_loss: 7.6168 - val_accuracy: 0.5062\n"
     ]
    }
   ],
   "source": [
    "from tensorflow.keras.callbacks import TensorBoard\n",
    "\n",
    "callbacks = [\n",
    "    TensorBoard(\n",
    "        log_dir='my_log_dir', # 로그 파일이 기록될 위치\n",
    "        histogram_freq=1, # 1 에포크마다 활성화 출력의 히스토그램을 기록한다.\n",
    "        embeddings_freq=1, # 1 에포크마다 임베딩 데이터를 기록한다.\n",
    "    )\n",
    "]\n",
    "\n",
    "history = model.fit(x_train, y_train,\n",
    "                    epochs=20,\n",
    "                    batch_size=128,\n",
    "                    validation_split=0.2,\n",
    "                    callbacks=callbacks)"
   ]
  },
  {
   "cell_type": "code",
   "execution_count": null,
   "metadata": {},
   "outputs": [],
   "source": [
    "from tensorflow.keras.models import Sequential, Model\n",
    "from tensorflow.keras import layers\n",
    "\n",
    "height = 64\n",
    "width = 64\n",
    "channels = 3\n",
    "num_classes = 10\n",
    "\n",
    "model = Sequential()\n",
    "model.add(layers.SeparableConv2D(32, 3,\n",
    "                                 activation='relu',\n",
    "                                 input_shape=(height, width, channels,)))\n",
    "model.add(layers.SeparableConv2D(64, 3, activation='relu'))\n",
    "model.add(layers.MaxPooling2D(2))\n",
    "\n",
    "model.add(layers.SeparableConv2D(64, 3, activation='relu'))\n",
    "model.add(layers.SeparableConv2D(128, 3, activation='relu'))\n",
    "model.add(layers.MaxPooling2D(2))\n",
    "\n",
    "model.add(layers.SeparableConv2D(64, 3, activation='relu'))\n",
    "model.add(layers.SeparableConv2D(128, 3, activation='relu'))\n",
    "model.add(layers.GlobalAveragePooling2D())\n",
    "\n",
    "model.add(layers.Dense(32, activation='relu'))\n",
    "model.add(layers.Dense(num_classes, activation='softmax'))\n",
    "\n",
    "model.compile(optimizer='rmsprop',\n",
    "              loss='categorical_crossentropy')"
   ]
  },
  {
   "cell_type": "code",
   "execution_count": null,
   "metadata": {},
   "outputs": [],
   "source": [
    "from tensorflow.keras.layers import Conv2D, BatchNormalization, Dense\n",
    "\n",
    "conv_model.add(Conv2D(32, 3, activation=\"relu\"))\n",
    "conv_model.add(BatchNormalization())\n",
    "\n",
    "dense_model.add(Dense(32, activation='relu'))\n",
    "dense_model.add(BatchNormalization())"
   ]
  },
  {
   "cell_type": "code",
   "execution_count": null,
   "metadata": {},
   "outputs": [],
   "source": [
    "from tensorflow.keras.models import Sequential, Model\n",
    "from tensorflow.keras.layers import SeparableConv2D, MaxPooling2D, GlobalAveragePooling2D, Dense\n",
    "\n",
    "height = 64\n",
    "width = 64\n",
    "channels = 3\n",
    "num_classes = 10\n",
    "\n",
    "model = Sequential()\n",
    "model.add(SeparableConv2D(32, 3,\n",
    "                          activation='relu',\n",
    "                          input_shape=(height, width, channels,)))\n",
    "model.add(SeparableConv2D(64, 3, activation='relu'))\n",
    "model.add(MaxPooling2D(2))\n",
    "\n",
    "model.add(SeparableConv2D(64, 3, activation='relu'))\n",
    "model.add(SeparableConv2D(128, 3, activation='relu'))\n",
    "model.add(MaxPooling2D(2))\n",
    "\n",
    "model.add(SeparableConv2D(64, 3, activation='relu'))\n",
    "model.add(SeparableConv2D(128, 3, activation='relu'))\n",
    "model.add(GlobalAveragePooling2D())\n",
    "\n",
    "model.add(Dense(32, activation='relu'))\n",
    "model.add(Dense(num_classes, activation='softmax'))\n",
    "\n",
    "model.compile(optimizer='rmsprop', loss='categorical_crossentropy')"
   ]
  },
  {
   "cell_type": "code",
   "execution_count": 1,
   "metadata": {},
   "outputs": [
    {
     "ename": "NameError",
     "evalue": "name 'model_a' is not defined",
     "output_type": "error",
     "traceback": [
      "\u001b[1;31m---------------------------------------------------------------------------\u001b[0m",
      "\u001b[1;31mNameError\u001b[0m                                 Traceback (most recent call last)",
      "\u001b[1;32m<ipython-input-1-97240b1b7c41>\u001b[0m in \u001b[0;36m<module>\u001b[1;34m\u001b[0m\n\u001b[1;32m----> 1\u001b[1;33m \u001b[0mpreds_a\u001b[0m \u001b[1;33m=\u001b[0m \u001b[0mmodel_a\u001b[0m\u001b[1;33m.\u001b[0m\u001b[0mpredict\u001b[0m\u001b[1;33m(\u001b[0m\u001b[0mx_val\u001b[0m\u001b[1;33m)\u001b[0m\u001b[1;33m\u001b[0m\u001b[1;33m\u001b[0m\u001b[0m\n\u001b[0m\u001b[0;32m      2\u001b[0m \u001b[0mpreds_b\u001b[0m \u001b[1;33m=\u001b[0m \u001b[0mmodel_b\u001b[0m\u001b[1;33m.\u001b[0m\u001b[0mpredict\u001b[0m\u001b[1;33m(\u001b[0m\u001b[0mx_\u001b[0m\u001b[1;33m)\u001b[0m\u001b[1;33m\u001b[0m\u001b[1;33m\u001b[0m\u001b[0m\n",
      "\u001b[1;31mNameError\u001b[0m: name 'model_a' is not defined"
     ]
    }
   ],
   "source": [
    "preds_a = model_a.predict(x_val)\n",
    "preds_b = model_b.predict(x_val)\n",
    "preds_c = model_c.predict(x_val)\n",
    "preds_d = model_d.predict(x_val)\n",
    "\n",
    "final_preds = 0.25 * (preds_a + preds_b + preds_c + preds_d)"
   ]
  },
  {
   "cell_type": "code",
   "execution_count": null,
   "metadata": {},
   "outputs": [],
   "source": []
  }
 ],
 "metadata": {
  "interpreter": {
   "hash": "dc67a1954fc8719de0f41a445e21b857837fa5db3f7fb7e297696149c4e3d566"
  },
  "kernelspec": {
   "display_name": "Python 3.6.13 64-bit ('tf2.4': conda)",
   "language": "python",
   "name": "python3"
  },
  "language_info": {
   "codemirror_mode": {
    "name": "ipython",
    "version": 3
   },
   "file_extension": ".py",
   "mimetype": "text/x-python",
   "name": "python",
   "nbconvert_exporter": "python",
   "pygments_lexer": "ipython3",
   "version": "3.6.13"
  },
  "orig_nbformat": 4
 },
 "nbformat": 4,
 "nbformat_minor": 2
}
